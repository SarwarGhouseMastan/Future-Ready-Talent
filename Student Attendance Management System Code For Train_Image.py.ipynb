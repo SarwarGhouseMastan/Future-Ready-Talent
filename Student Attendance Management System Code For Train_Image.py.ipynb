{
 "cells": [
  {
   "cell_type": "code",
   "execution_count": null,
   "id": "683ed960",
   "metadata": {},
   "outputs": [],
   "source": [
    "import os\n",
    "import time\n",
    "import cv2\n",
    "import numpy as np\n",
    "from PIL import Image\n",
    "from threading import Thread\n",
    "\n",
    "\n",
    "\n",
    "# -------------- image labesl ------------------------\n",
    "\n",
    "def getImagesAndLabels(path):\n",
    "    # get the path of all the files in the folder\n",
    "    imagePaths = [os.path.join(path, f) for f in os.listdir(path)]\n",
    "    # print(imagePaths)\n",
    "\n",
    "    # create empth face list\n",
    "    faces = []\n",
    "    # create empty ID list\n",
    "    Ids = []\n",
    "    # now looping through all the image paths and loading the Ids and the images\n",
    "    for imagePath in imagePaths:\n",
    "        # loading the image and converting it to gray scale\n",
    "        pilImage = Image.open(imagePath).convert('L')\n",
    "        # Now we are converting the PIL image into numpy array\n",
    "        imageNp = np.array(pilImage, 'uint8')\n",
    "        # getting the Id from the image\n",
    "        Id = int(os.path.split(imagePath)[-1].split(\".\")[1])\n",
    "        # extract the face from the training image sample\n",
    "        faces.append(imageNp)\n",
    "        Ids.append(Id)\n",
    "    return faces, Ids\n",
    "\n",
    "\n",
    "# ----------- train images function ---------------\n",
    "def TrainImages():\n",
    "    recognizer = cv2.face_LBPHFaceRecognizer.create()\n",
    "    harcascadePath = \"haarcascade_frontalface_default.xml\"\n",
    "    detector = cv2.CascadeClassifier(harcascadePath)\n",
    "    faces, Id = getImagesAndLabels(\"TrainingImage\")\n",
    "    Thread(target = recognizer.train(faces, np.array(Id))).start()\n",
    "    # Below line is optional for a visual counter effect\n",
    "    Thread(target = counter_img(\"TrainingImage\")).start()\n",
    "    recognizer.save(\"TrainingImageLabel\"+os.sep+\"Trainner.yml\")\n",
    "    print(\"All Images\")\n",
    "\n",
    "# Optional, adds a counter for images trained (You can remove it)\n",
    "def counter_img(path):\n",
    "    imgcounter = 1\n",
    "    imagePaths = [os.path.join(path, f) for f in os.listdir(path)]\n",
    "    for imagePath in imagePaths:\n",
    "        print(str(imgcounter) + \" Images Trained\", end=\"\\r\")\n",
    "        time.sleep(0.008)\n",
    "        imgcounter += 1"
   ]
  }
 ],
 "metadata": {
  "kernelspec": {
   "display_name": "Python 3",
   "language": "python",
   "name": "python3"
  },
  "language_info": {
   "codemirror_mode": {
    "name": "ipython",
    "version": 3
   },
   "file_extension": ".py",
   "mimetype": "text/x-python",
   "name": "python",
   "nbconvert_exporter": "python",
   "pygments_lexer": "ipython3",
   "version": "3.8.8"
  }
 },
 "nbformat": 4,
 "nbformat_minor": 5
}
